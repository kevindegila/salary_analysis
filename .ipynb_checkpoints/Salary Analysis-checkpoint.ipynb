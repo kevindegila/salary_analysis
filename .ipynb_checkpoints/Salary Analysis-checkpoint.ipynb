{
 "cells": [
  {
   "cell_type": "code",
   "execution_count": 43,
   "metadata": {},
   "outputs": [],
   "source": [
    "import numpy as np\n",
    "import pandas as pd\n",
    "import matplotlib.pyplot as plt\n",
    "import seaborn as sns\n",
    "sns.set(style='darkgrid')\n",
    "%matplotlib inline"
   ]
  },
  {
   "cell_type": "markdown",
   "metadata": {},
   "source": [
    "# Import Data"
   ]
  },
  {
   "cell_type": "code",
   "execution_count": 2,
   "metadata": {},
   "outputs": [],
   "source": [
    "data = pd.read_csv('salary_benin.csv')"
   ]
  },
  {
   "cell_type": "code",
   "execution_count": 3,
   "metadata": {},
   "outputs": [
    {
     "data": {
      "text/html": [
       "<div>\n",
       "<style scoped>\n",
       "    .dataframe tbody tr th:only-of-type {\n",
       "        vertical-align: middle;\n",
       "    }\n",
       "\n",
       "    .dataframe tbody tr th {\n",
       "        vertical-align: top;\n",
       "    }\n",
       "\n",
       "    .dataframe thead th {\n",
       "        text-align: right;\n",
       "    }\n",
       "</style>\n",
       "<table border=\"1\" class=\"dataframe\">\n",
       "  <thead>\n",
       "    <tr style=\"text-align: right;\">\n",
       "      <th></th>\n",
       "      <th>Horodateur</th>\n",
       "      <th>Quel est le titre exact de votre post ? Ex : Développeur Mobile IOS</th>\n",
       "      <th>Combien d'années d'expériences avez-vous en Entreprise?</th>\n",
       "      <th>Quel était votre premier salaire en FCFA au Bénin ?</th>\n",
       "      <th>Quel est votre salaire actuel en FCFA au Bénin ?</th>\n",
       "      <th>Êtes-vous satisfait de votre rémunération mensuelle ?</th>\n",
       "    </tr>\n",
       "  </thead>\n",
       "  <tbody>\n",
       "    <tr>\n",
       "      <th>0</th>\n",
       "      <td>11/06/2021 16:22:47</td>\n",
       "      <td>Developeur Backend</td>\n",
       "      <td>1 an</td>\n",
       "      <td>125000</td>\n",
       "      <td>125000</td>\n",
       "      <td>2</td>\n",
       "    </tr>\n",
       "    <tr>\n",
       "      <th>1</th>\n",
       "      <td>11/06/2021 16:50:34</td>\n",
       "      <td>IT &amp; Data Analyste</td>\n",
       "      <td>3 à 5 ans</td>\n",
       "      <td>50000</td>\n",
       "      <td>420000</td>\n",
       "      <td>1</td>\n",
       "    </tr>\n",
       "    <tr>\n",
       "      <th>2</th>\n",
       "      <td>11/06/2021 17:11:11</td>\n",
       "      <td>Développeur Android et python</td>\n",
       "      <td>2 ans</td>\n",
       "      <td>150000</td>\n",
       "      <td>150000</td>\n",
       "      <td>3</td>\n",
       "    </tr>\n",
       "    <tr>\n",
       "      <th>3</th>\n",
       "      <td>11/06/2021 19:51:58</td>\n",
       "      <td>Développeur Web Frontend</td>\n",
       "      <td>Moins d'un an</td>\n",
       "      <td>100000</td>\n",
       "      <td>180000</td>\n",
       "      <td>2</td>\n",
       "    </tr>\n",
       "    <tr>\n",
       "      <th>4</th>\n",
       "      <td>11/06/2021 20:13:44</td>\n",
       "      <td>Full stack web developer</td>\n",
       "      <td>1 an</td>\n",
       "      <td>150000</td>\n",
       "      <td>200000</td>\n",
       "      <td>3</td>\n",
       "    </tr>\n",
       "  </tbody>\n",
       "</table>\n",
       "</div>"
      ],
      "text/plain": [
       "            Horodateur  \\\n",
       "0  11/06/2021 16:22:47   \n",
       "1  11/06/2021 16:50:34   \n",
       "2  11/06/2021 17:11:11   \n",
       "3  11/06/2021 19:51:58   \n",
       "4  11/06/2021 20:13:44   \n",
       "\n",
       "  Quel est le titre exact de votre post ? Ex : Développeur Mobile IOS  \\\n",
       "0                                 Developeur Backend                    \n",
       "1                                 IT & Data Analyste                    \n",
       "2                      Développeur Android et python                    \n",
       "3                           Développeur Web Frontend                    \n",
       "4                           Full stack web developer                    \n",
       "\n",
       "  Combien d'années d'expériences avez-vous en Entreprise?  \\\n",
       "0                                               1 an        \n",
       "1                                          3 à 5 ans        \n",
       "2                                              2 ans        \n",
       "3                                      Moins d'un an        \n",
       "4                                               1 an        \n",
       "\n",
       "  Quel était votre premier salaire en FCFA au Bénin ?  \\\n",
       "0                                             125000    \n",
       "1                                              50000    \n",
       "2                                             150000    \n",
       "3                                             100000    \n",
       "4                                             150000    \n",
       "\n",
       "  Quel est votre salaire actuel en FCFA au Bénin ?  \\\n",
       "0                                           125000   \n",
       "1                                           420000   \n",
       "2                                           150000   \n",
       "3                                           180000   \n",
       "4                                           200000   \n",
       "\n",
       "   Êtes-vous satisfait de votre rémunération mensuelle ?  \n",
       "0                                                  2      \n",
       "1                                                  1      \n",
       "2                                                  3      \n",
       "3                                                  2      \n",
       "4                                                  3      "
      ]
     },
     "execution_count": 3,
     "metadata": {},
     "output_type": "execute_result"
    }
   ],
   "source": [
    "data.head()"
   ]
  },
  {
   "cell_type": "code",
   "execution_count": 4,
   "metadata": {},
   "outputs": [
    {
     "data": {
      "text/plain": [
       "(38, 6)"
      ]
     },
     "execution_count": 4,
     "metadata": {},
     "output_type": "execute_result"
    }
   ],
   "source": [
    "data.shape"
   ]
  },
  {
   "cell_type": "markdown",
   "metadata": {},
   "source": [
    "Nous avons 38 réponses au survey."
   ]
  },
  {
   "cell_type": "markdown",
   "metadata": {},
   "source": [
    "# Data Cleaning"
   ]
  },
  {
   "cell_type": "markdown",
   "metadata": {},
   "source": [
    "On peut se séparer de la colonne `Horodateur`. Il s'agit juste de l'heure à laquelle la réponse a été reçue."
   ]
  },
  {
   "cell_type": "code",
   "execution_count": 5,
   "metadata": {},
   "outputs": [],
   "source": [
    "del data['Horodateur']"
   ]
  },
  {
   "cell_type": "code",
   "execution_count": 6,
   "metadata": {},
   "outputs": [
    {
     "data": {
      "text/html": [
       "<div>\n",
       "<style scoped>\n",
       "    .dataframe tbody tr th:only-of-type {\n",
       "        vertical-align: middle;\n",
       "    }\n",
       "\n",
       "    .dataframe tbody tr th {\n",
       "        vertical-align: top;\n",
       "    }\n",
       "\n",
       "    .dataframe thead th {\n",
       "        text-align: right;\n",
       "    }\n",
       "</style>\n",
       "<table border=\"1\" class=\"dataframe\">\n",
       "  <thead>\n",
       "    <tr style=\"text-align: right;\">\n",
       "      <th></th>\n",
       "      <th>Quel est le titre exact de votre post ? Ex : Développeur Mobile IOS</th>\n",
       "      <th>Combien d'années d'expériences avez-vous en Entreprise?</th>\n",
       "      <th>Quel était votre premier salaire en FCFA au Bénin ?</th>\n",
       "      <th>Quel est votre salaire actuel en FCFA au Bénin ?</th>\n",
       "      <th>Êtes-vous satisfait de votre rémunération mensuelle ?</th>\n",
       "    </tr>\n",
       "  </thead>\n",
       "  <tbody>\n",
       "    <tr>\n",
       "      <th>0</th>\n",
       "      <td>Developeur Backend</td>\n",
       "      <td>1 an</td>\n",
       "      <td>125000</td>\n",
       "      <td>125000</td>\n",
       "      <td>2</td>\n",
       "    </tr>\n",
       "    <tr>\n",
       "      <th>1</th>\n",
       "      <td>IT &amp; Data Analyste</td>\n",
       "      <td>3 à 5 ans</td>\n",
       "      <td>50000</td>\n",
       "      <td>420000</td>\n",
       "      <td>1</td>\n",
       "    </tr>\n",
       "    <tr>\n",
       "      <th>2</th>\n",
       "      <td>Développeur Android et python</td>\n",
       "      <td>2 ans</td>\n",
       "      <td>150000</td>\n",
       "      <td>150000</td>\n",
       "      <td>3</td>\n",
       "    </tr>\n",
       "    <tr>\n",
       "      <th>3</th>\n",
       "      <td>Développeur Web Frontend</td>\n",
       "      <td>Moins d'un an</td>\n",
       "      <td>100000</td>\n",
       "      <td>180000</td>\n",
       "      <td>2</td>\n",
       "    </tr>\n",
       "    <tr>\n",
       "      <th>4</th>\n",
       "      <td>Full stack web developer</td>\n",
       "      <td>1 an</td>\n",
       "      <td>150000</td>\n",
       "      <td>200000</td>\n",
       "      <td>3</td>\n",
       "    </tr>\n",
       "  </tbody>\n",
       "</table>\n",
       "</div>"
      ],
      "text/plain": [
       "  Quel est le titre exact de votre post ? Ex : Développeur Mobile IOS  \\\n",
       "0                                 Developeur Backend                    \n",
       "1                                 IT & Data Analyste                    \n",
       "2                      Développeur Android et python                    \n",
       "3                           Développeur Web Frontend                    \n",
       "4                           Full stack web developer                    \n",
       "\n",
       "  Combien d'années d'expériences avez-vous en Entreprise?  \\\n",
       "0                                               1 an        \n",
       "1                                          3 à 5 ans        \n",
       "2                                              2 ans        \n",
       "3                                      Moins d'un an        \n",
       "4                                               1 an        \n",
       "\n",
       "  Quel était votre premier salaire en FCFA au Bénin ?  \\\n",
       "0                                             125000    \n",
       "1                                              50000    \n",
       "2                                             150000    \n",
       "3                                             100000    \n",
       "4                                             150000    \n",
       "\n",
       "  Quel est votre salaire actuel en FCFA au Bénin ?  \\\n",
       "0                                           125000   \n",
       "1                                           420000   \n",
       "2                                           150000   \n",
       "3                                           180000   \n",
       "4                                           200000   \n",
       "\n",
       "   Êtes-vous satisfait de votre rémunération mensuelle ?  \n",
       "0                                                  2      \n",
       "1                                                  1      \n",
       "2                                                  3      \n",
       "3                                                  2      \n",
       "4                                                  3      "
      ]
     },
     "execution_count": 6,
     "metadata": {},
     "output_type": "execute_result"
    }
   ],
   "source": [
    "data.head()"
   ]
  },
  {
   "cell_type": "markdown",
   "metadata": {},
   "source": [
    "Essayons de renommer les différentes colonnes. Les noms actuels sont trop longs."
   ]
  },
  {
   "cell_type": "code",
   "execution_count": 7,
   "metadata": {},
   "outputs": [],
   "source": [
    "columns = ['poste', 'experience', 'salaire_debut', 'salaire_actuel', 'satisfaction']\n",
    "data.columns = columns"
   ]
  },
  {
   "cell_type": "code",
   "execution_count": 8,
   "metadata": {},
   "outputs": [
    {
     "data": {
      "text/html": [
       "<div>\n",
       "<style scoped>\n",
       "    .dataframe tbody tr th:only-of-type {\n",
       "        vertical-align: middle;\n",
       "    }\n",
       "\n",
       "    .dataframe tbody tr th {\n",
       "        vertical-align: top;\n",
       "    }\n",
       "\n",
       "    .dataframe thead th {\n",
       "        text-align: right;\n",
       "    }\n",
       "</style>\n",
       "<table border=\"1\" class=\"dataframe\">\n",
       "  <thead>\n",
       "    <tr style=\"text-align: right;\">\n",
       "      <th></th>\n",
       "      <th>poste</th>\n",
       "      <th>experience</th>\n",
       "      <th>salaire_debut</th>\n",
       "      <th>salaire_actuel</th>\n",
       "      <th>satisfaction</th>\n",
       "    </tr>\n",
       "  </thead>\n",
       "  <tbody>\n",
       "    <tr>\n",
       "      <th>0</th>\n",
       "      <td>Developeur Backend</td>\n",
       "      <td>1 an</td>\n",
       "      <td>125000</td>\n",
       "      <td>125000</td>\n",
       "      <td>2</td>\n",
       "    </tr>\n",
       "    <tr>\n",
       "      <th>1</th>\n",
       "      <td>IT &amp; Data Analyste</td>\n",
       "      <td>3 à 5 ans</td>\n",
       "      <td>50000</td>\n",
       "      <td>420000</td>\n",
       "      <td>1</td>\n",
       "    </tr>\n",
       "    <tr>\n",
       "      <th>2</th>\n",
       "      <td>Développeur Android et python</td>\n",
       "      <td>2 ans</td>\n",
       "      <td>150000</td>\n",
       "      <td>150000</td>\n",
       "      <td>3</td>\n",
       "    </tr>\n",
       "    <tr>\n",
       "      <th>3</th>\n",
       "      <td>Développeur Web Frontend</td>\n",
       "      <td>Moins d'un an</td>\n",
       "      <td>100000</td>\n",
       "      <td>180000</td>\n",
       "      <td>2</td>\n",
       "    </tr>\n",
       "    <tr>\n",
       "      <th>4</th>\n",
       "      <td>Full stack web developer</td>\n",
       "      <td>1 an</td>\n",
       "      <td>150000</td>\n",
       "      <td>200000</td>\n",
       "      <td>3</td>\n",
       "    </tr>\n",
       "  </tbody>\n",
       "</table>\n",
       "</div>"
      ],
      "text/plain": [
       "                           poste     experience salaire_debut salaire_actuel  \\\n",
       "0             Developeur Backend           1 an        125000         125000   \n",
       "1             IT & Data Analyste      3 à 5 ans         50000         420000   \n",
       "2  Développeur Android et python          2 ans        150000         150000   \n",
       "3       Développeur Web Frontend  Moins d'un an        100000         180000   \n",
       "4       Full stack web developer           1 an        150000         200000   \n",
       "\n",
       "   satisfaction  \n",
       "0             2  \n",
       "1             1  \n",
       "2             3  \n",
       "3             2  \n",
       "4             3  "
      ]
     },
     "execution_count": 8,
     "metadata": {},
     "output_type": "execute_result"
    }
   ],
   "source": [
    "data.head()"
   ]
  },
  {
   "cell_type": "markdown",
   "metadata": {},
   "source": [
    "Inspectons le type de chaque colonne"
   ]
  },
  {
   "cell_type": "code",
   "execution_count": 9,
   "metadata": {},
   "outputs": [
    {
     "name": "stdout",
     "output_type": "stream",
     "text": [
      "<class 'pandas.core.frame.DataFrame'>\n",
      "RangeIndex: 38 entries, 0 to 37\n",
      "Data columns (total 5 columns):\n",
      "poste             38 non-null object\n",
      "experience        38 non-null object\n",
      "salaire_debut     38 non-null object\n",
      "salaire_actuel    38 non-null object\n",
      "satisfaction      38 non-null int64\n",
      "dtypes: int64(1), object(4)\n",
      "memory usage: 1.6+ KB\n"
     ]
    }
   ],
   "source": [
    "data.info()"
   ]
  },
  {
   "cell_type": "markdown",
   "metadata": {},
   "source": [
    "Seul la colonne satisfaction est fait de nombres uniquement. Examinons les colonnes salaire_debut et salaire_fin qui sont normalement censé être de type int"
   ]
  },
  {
   "cell_type": "code",
   "execution_count": 10,
   "metadata": {},
   "outputs": [
    {
     "data": {
      "text/plain": [
       "array(['125000', '50000', '150000', '100000', '160.000FCFA', '50.000FCFA',\n",
       "       '60000', '30mille', '120000', '50.000', '30.000', '40000',\n",
       "       '350000', '400000', '25000', '200000', '160000', '50.000 FCFA',\n",
       "       '75.000', '400.000', '73325', '0'], dtype=object)"
      ]
     },
     "execution_count": 10,
     "metadata": {},
     "output_type": "execute_result"
    }
   ],
   "source": [
    "data['salaire_debut'].unique()"
   ]
  },
  {
   "cell_type": "code",
   "execution_count": 11,
   "metadata": {},
   "outputs": [
    {
     "data": {
      "text/plain": [
       "array(['125000', '420000', '150000', '180000', '200000', '300.000FCFA',\n",
       "       '100.000FCFA', '250000', '500000', '400000', '150', '380000',\n",
       "       '438000', '300000', '150.000', '180.000', '1000000', '50000',\n",
       "       '100000', '978344', '200.000fcfa', '375000', '160.000', '500.000',\n",
       "       '225000', '40000'], dtype=object)"
      ]
     },
     "execution_count": 11,
     "metadata": {},
     "output_type": "execute_result"
    }
   ],
   "source": [
    "data['salaire_actuel'].unique()"
   ]
  },
  {
   "cell_type": "markdown",
   "metadata": {},
   "source": [
    "Quelques remarques : \n",
    "\n",
    "- Nous n'avons pas un grand nombre de salaire différents. Très bien pour l'analyse\n",
    "- Certaines reponses ont la devise `fcfa` à côté du montant. Faudra l'effacer. On peut utiliser du code python simple ou une regex\n",
    "- Certaines reponses ont un point à l'intérieur ou simplement la seconde partie en toute lettre pour faciliter la lecture du montant. Faudra les enlever et nettoyer aussi.\n",
    "\n",
    "Ecrivons une fonction qui éffectue les nettoyages : "
   ]
  },
  {
   "cell_type": "code",
   "execution_count": 12,
   "metadata": {},
   "outputs": [],
   "source": [
    "def clean_salary(salary):\n",
    "    salary = salary.lower() # transformer tout FCFA en fcfa\n",
    "    to_remove = ['fcfa', '.', 'mille']\n",
    "    \n",
    "    for chaine in to_remove:\n",
    "        if chaine == 'mille':\n",
    "            salary = salary.replace(chaine, '000')   \n",
    "        salary = salary.replace(chaine, '')\n",
    "    return salary"
   ]
  },
  {
   "cell_type": "code",
   "execution_count": 13,
   "metadata": {},
   "outputs": [],
   "source": [
    "data['salaire_debut'] = data['salaire_debut'].apply(clean_salary)\n",
    "data['salaire_actuel'] = data['salaire_actuel'].apply(clean_salary)"
   ]
  },
  {
   "cell_type": "code",
   "execution_count": 14,
   "metadata": {},
   "outputs": [
    {
     "data": {
      "text/plain": [
       "array(['125000', '420000', '150000', '180000', '200000', '300000',\n",
       "       '100000', '250000', '500000', '400000', '150', '380000', '438000',\n",
       "       '1000000', '50000', '978344', '375000', '160000', '225000',\n",
       "       '40000'], dtype=object)"
      ]
     },
     "execution_count": 14,
     "metadata": {},
     "output_type": "execute_result"
    }
   ],
   "source": [
    "data['salaire_actuel'].unique()"
   ]
  },
  {
   "cell_type": "code",
   "execution_count": 15,
   "metadata": {},
   "outputs": [
    {
     "data": {
      "text/plain": [
       "array(['125000', '50000', '150000', '100000', '160000', '60000', '30000',\n",
       "       '120000', '40000', '350000', '400000', '25000', '200000', '50000 ',\n",
       "       '75000', '73325', '0'], dtype=object)"
      ]
     },
     "execution_count": 15,
     "metadata": {},
     "output_type": "execute_result"
    }
   ],
   "source": [
    "data['salaire_debut'].unique()"
   ]
  },
  {
   "cell_type": "markdown",
   "metadata": {},
   "source": [
    "Désormais, nous n'avons plus que des nombres. Mais ce n'est pas fini. Nous avons un outlier 150 dans la colonne salaire actuel et de 0 dans le salire debut. Examinons les autres reponses de ces personnes"
   ]
  },
  {
   "cell_type": "code",
   "execution_count": 16,
   "metadata": {},
   "outputs": [
    {
     "data": {
      "text/html": [
       "<div>\n",
       "<style scoped>\n",
       "    .dataframe tbody tr th:only-of-type {\n",
       "        vertical-align: middle;\n",
       "    }\n",
       "\n",
       "    .dataframe tbody tr th {\n",
       "        vertical-align: top;\n",
       "    }\n",
       "\n",
       "    .dataframe thead th {\n",
       "        text-align: right;\n",
       "    }\n",
       "</style>\n",
       "<table border=\"1\" class=\"dataframe\">\n",
       "  <thead>\n",
       "    <tr style=\"text-align: right;\">\n",
       "      <th></th>\n",
       "      <th>poste</th>\n",
       "      <th>experience</th>\n",
       "      <th>salaire_debut</th>\n",
       "      <th>salaire_actuel</th>\n",
       "      <th>satisfaction</th>\n",
       "    </tr>\n",
       "  </thead>\n",
       "  <tbody>\n",
       "    <tr>\n",
       "      <th>11</th>\n",
       "      <td>Lead developer</td>\n",
       "      <td>2 ans</td>\n",
       "      <td>30000</td>\n",
       "      <td>150</td>\n",
       "      <td>1</td>\n",
       "    </tr>\n",
       "  </tbody>\n",
       "</table>\n",
       "</div>"
      ],
      "text/plain": [
       "             poste experience salaire_debut salaire_actuel  satisfaction\n",
       "11  Lead developer      2 ans         30000            150             1"
      ]
     },
     "execution_count": 16,
     "metadata": {},
     "output_type": "execute_result"
    }
   ],
   "source": [
    "data[data['salaire_actuel'] == '150']"
   ]
  },
  {
   "cell_type": "markdown",
   "metadata": {},
   "source": [
    "Un salaire début de 30000 et un salaire actuel de 150 est invraisemblable pour un Lead developer avec 2 ans d'expérience. Il s'agit probalement de 150 000 FCFA. Modifions cela"
   ]
  },
  {
   "cell_type": "code",
   "execution_count": 17,
   "metadata": {},
   "outputs": [],
   "source": [
    "data.at[11, 'salaire_actuel'] = '150000'"
   ]
  },
  {
   "cell_type": "code",
   "execution_count": 18,
   "metadata": {},
   "outputs": [
    {
     "data": {
      "text/plain": [
       "poste             Lead developer\n",
       "experience                 2 ans\n",
       "salaire_debut              30000\n",
       "salaire_actuel            150000\n",
       "satisfaction                   1\n",
       "Name: 11, dtype: object"
      ]
     },
     "execution_count": 18,
     "metadata": {},
     "output_type": "execute_result"
    }
   ],
   "source": [
    "data.iloc[11]"
   ]
  },
  {
   "cell_type": "code",
   "execution_count": 19,
   "metadata": {},
   "outputs": [
    {
     "data": {
      "text/html": [
       "<div>\n",
       "<style scoped>\n",
       "    .dataframe tbody tr th:only-of-type {\n",
       "        vertical-align: middle;\n",
       "    }\n",
       "\n",
       "    .dataframe tbody tr th {\n",
       "        vertical-align: top;\n",
       "    }\n",
       "\n",
       "    .dataframe thead th {\n",
       "        text-align: right;\n",
       "    }\n",
       "</style>\n",
       "<table border=\"1\" class=\"dataframe\">\n",
       "  <thead>\n",
       "    <tr style=\"text-align: right;\">\n",
       "      <th></th>\n",
       "      <th>poste</th>\n",
       "      <th>experience</th>\n",
       "      <th>salaire_debut</th>\n",
       "      <th>salaire_actuel</th>\n",
       "      <th>satisfaction</th>\n",
       "    </tr>\n",
       "  </thead>\n",
       "  <tbody>\n",
       "    <tr>\n",
       "      <th>37</th>\n",
       "      <td>Développeur web</td>\n",
       "      <td>1 an</td>\n",
       "      <td>0</td>\n",
       "      <td>40000</td>\n",
       "      <td>1</td>\n",
       "    </tr>\n",
       "  </tbody>\n",
       "</table>\n",
       "</div>"
      ],
      "text/plain": [
       "              poste experience salaire_debut salaire_actuel  satisfaction\n",
       "37  Développeur web       1 an             0          40000             1"
      ]
     },
     "execution_count": 19,
     "metadata": {},
     "output_type": "execute_result"
    }
   ],
   "source": [
    "data[data['salaire_debut'] == '0']"
   ]
  },
  {
   "cell_type": "markdown",
   "metadata": {},
   "source": [
    "Il s'agit là d'un développeur avec une année d'expérience. Un salaire début de 0 peut supposer qu'il s'agissait d'un stage non remunéré. On peut donc garder cette ligne telle."
   ]
  },
  {
   "cell_type": "markdown",
   "metadata": {},
   "source": [
    "Nous pouvons maintenant convertir ces colonnes de type object à int"
   ]
  },
  {
   "cell_type": "code",
   "execution_count": 20,
   "metadata": {},
   "outputs": [],
   "source": [
    "data[['salaire_debut', 'salaire_actuel']] = data[['salaire_debut', 'salaire_actuel']].astype('int')"
   ]
  },
  {
   "cell_type": "code",
   "execution_count": 21,
   "metadata": {},
   "outputs": [
    {
     "name": "stdout",
     "output_type": "stream",
     "text": [
      "<class 'pandas.core.frame.DataFrame'>\n",
      "RangeIndex: 38 entries, 0 to 37\n",
      "Data columns (total 5 columns):\n",
      "poste             38 non-null object\n",
      "experience        38 non-null object\n",
      "salaire_debut     38 non-null int64\n",
      "salaire_actuel    38 non-null int64\n",
      "satisfaction      38 non-null int64\n",
      "dtypes: int64(3), object(2)\n",
      "memory usage: 1.6+ KB\n"
     ]
    }
   ],
   "source": [
    "data.info()"
   ]
  },
  {
   "cell_type": "markdown",
   "metadata": {},
   "source": [
    "Considérons désormais la colonne expérience : "
   ]
  },
  {
   "cell_type": "code",
   "execution_count": 22,
   "metadata": {},
   "outputs": [
    {
     "data": {
      "text/plain": [
       "array(['1 an', '3 à 5 ans', '2 ans', \"Moins d'un an\", 'Plus de 5 ans',\n",
       "       \"Stagiaire, Moins d'un an\", 'Stagiaire', 'Plus de 10 ans'],\n",
       "      dtype=object)"
      ]
     },
     "execution_count": 22,
     "metadata": {},
     "output_type": "execute_result"
    }
   ],
   "source": [
    "data['experience'].unique()"
   ]
  },
  {
   "cell_type": "markdown",
   "metadata": {},
   "source": [
    "Il s'agit de catégories donc on peut ne pas modifier cette catégorie.\n",
    "\n",
    "C'est donc la fin de notre nettoyage de données. Nous pouvons désormais passé à une analyse exploratoire."
   ]
  },
  {
   "cell_type": "markdown",
   "metadata": {},
   "source": [
    "# Exploratory Data Analysis EDA of IT Salaries in Benin Republic"
   ]
  },
  {
   "cell_type": "code",
   "execution_count": 23,
   "metadata": {},
   "outputs": [
    {
     "data": {
      "text/html": [
       "<div>\n",
       "<style scoped>\n",
       "    .dataframe tbody tr th:only-of-type {\n",
       "        vertical-align: middle;\n",
       "    }\n",
       "\n",
       "    .dataframe tbody tr th {\n",
       "        vertical-align: top;\n",
       "    }\n",
       "\n",
       "    .dataframe thead th {\n",
       "        text-align: right;\n",
       "    }\n",
       "</style>\n",
       "<table border=\"1\" class=\"dataframe\">\n",
       "  <thead>\n",
       "    <tr style=\"text-align: right;\">\n",
       "      <th></th>\n",
       "      <th>poste</th>\n",
       "      <th>experience</th>\n",
       "      <th>salaire_debut</th>\n",
       "      <th>salaire_actuel</th>\n",
       "      <th>satisfaction</th>\n",
       "    </tr>\n",
       "  </thead>\n",
       "  <tbody>\n",
       "    <tr>\n",
       "      <th>0</th>\n",
       "      <td>Developeur Backend</td>\n",
       "      <td>1 an</td>\n",
       "      <td>125000</td>\n",
       "      <td>125000</td>\n",
       "      <td>2</td>\n",
       "    </tr>\n",
       "    <tr>\n",
       "      <th>1</th>\n",
       "      <td>IT &amp; Data Analyste</td>\n",
       "      <td>3 à 5 ans</td>\n",
       "      <td>50000</td>\n",
       "      <td>420000</td>\n",
       "      <td>1</td>\n",
       "    </tr>\n",
       "    <tr>\n",
       "      <th>2</th>\n",
       "      <td>Développeur Android et python</td>\n",
       "      <td>2 ans</td>\n",
       "      <td>150000</td>\n",
       "      <td>150000</td>\n",
       "      <td>3</td>\n",
       "    </tr>\n",
       "    <tr>\n",
       "      <th>3</th>\n",
       "      <td>Développeur Web Frontend</td>\n",
       "      <td>Moins d'un an</td>\n",
       "      <td>100000</td>\n",
       "      <td>180000</td>\n",
       "      <td>2</td>\n",
       "    </tr>\n",
       "    <tr>\n",
       "      <th>4</th>\n",
       "      <td>Full stack web developer</td>\n",
       "      <td>1 an</td>\n",
       "      <td>150000</td>\n",
       "      <td>200000</td>\n",
       "      <td>3</td>\n",
       "    </tr>\n",
       "  </tbody>\n",
       "</table>\n",
       "</div>"
      ],
      "text/plain": [
       "                           poste     experience  salaire_debut  \\\n",
       "0             Developeur Backend           1 an         125000   \n",
       "1             IT & Data Analyste      3 à 5 ans          50000   \n",
       "2  Développeur Android et python          2 ans         150000   \n",
       "3       Développeur Web Frontend  Moins d'un an         100000   \n",
       "4       Full stack web developer           1 an         150000   \n",
       "\n",
       "   salaire_actuel  satisfaction  \n",
       "0          125000             2  \n",
       "1          420000             1  \n",
       "2          150000             3  \n",
       "3          180000             2  \n",
       "4          200000             3  "
      ]
     },
     "execution_count": 23,
     "metadata": {},
     "output_type": "execute_result"
    }
   ],
   "source": [
    "data.head()"
   ]
  },
  {
   "cell_type": "markdown",
   "metadata": {},
   "source": [
    "Commençons par les différents métiers en informatique qu'on a dans ce dataset : "
   ]
  },
  {
   "cell_type": "code",
   "execution_count": 24,
   "metadata": {},
   "outputs": [
    {
     "data": {
      "text/plain": [
       "34"
      ]
     },
     "execution_count": 24,
     "metadata": {},
     "output_type": "execute_result"
    }
   ],
   "source": [
    "data['poste'].nunique()"
   ]
  },
  {
   "cell_type": "code",
   "execution_count": 25,
   "metadata": {},
   "outputs": [
    {
     "data": {
      "text/plain": [
       "array(['Developeur Backend', 'IT & Data Analyste',\n",
       "       'Développeur Android et python', 'Développeur Web Frontend',\n",
       "       'Full stack web developer', 'IT Project Manager ',\n",
       "       'UX/UI DESIGNER ', 'Développeur Front-end', 'Développeur Angular',\n",
       "       'Développeur web', 'DevOps', 'Lead developer',\n",
       "       'Développeur Web Full Stack', 'Full Stack Dev',\n",
       "       'Developer back-end', 'Développeur front end', 'Data Analyst ',\n",
       "       'Frontend dev', 'Devops', 'Project Manager Junior', 'Data Analyst',\n",
       "       'Développeur Web Backend', 'Chef de projet web et mobile',\n",
       "       'Développeur web et mobile ', 'Développeur Web',\n",
       "       'Big Data Manager', 'Manager', 'Développeur web et mobile',\n",
       "       'Chef Division Applications et Base de Données',\n",
       "       'Développeur Web FullStack et Mobile ',\n",
       "       'Ingénieur réseau, système et securité', 'Développeur JEE',\n",
       "       'Assistant technique ', 'Développeur Web (Back end et front end) '],\n",
       "      dtype=object)"
      ]
     },
     "execution_count": 25,
     "metadata": {},
     "output_type": "execute_result"
    }
   ],
   "source": [
    "data['poste'].unique()"
   ]
  },
  {
   "cell_type": "markdown",
   "metadata": {},
   "source": [
    "Nous avons 34 entrées différentes qui peuvent être groupées en sous-catégories. Nous avons des désigner UX/UI, développeurs web, frontend, backend, fullstack, mobile, des Devops, des Data Analyst, des chefs de projets et autres. Nous allons essayer de faire des regroupements de ces différentes entrées selon les listes suivantes : "
   ]
  },
  {
   "cell_type": "code",
   "execution_count": 26,
   "metadata": {},
   "outputs": [],
   "source": [
    "group = {\n",
    "   \n",
    "    \"dev_frontend\" : [\"Développeur Front-end\", \"Développeur Angular\",\"Développeur front end\", \"Frontend dev\", \"Développeur Web Frontend\"],\n",
    "\"dev_backend\" : [\"Developeur Backend\", \"Developer back-end\", \"Développeur Web Backend\", \"Développeur JEE\"],\n",
    "\"fullstack\" : [\"Full stack web developer\", \"Développeur Web Full Stack\", \"Full Stack Dev\", \"Développeur Web FullStack et Mobile \", \"Développeur Web (Back end et front end) \"],\n",
    "\"dev_web\" : ['Développeur web', \"Développeur Web\"],\n",
    "\"mobile\" : [\"Développeur web et mobile \", \"Développeur web et mobile\", \"Développeur Android et python\"],\n",
    "\"data_analyst\" : [\"Data Analyst \", \"Data Analyst\", \"IT & Data Analyste\"],\n",
    "\"manager\" : [\"IT Project Manager \", \"Lead developer\", \"Project Manager Junior\", \"Big Data Manager\", \"Chef Division Applications et Base de Données\", \"Manager\", \"Chef de projet web et mobile\"],\n",
    "\"reseau_sécurite\" : [\"Ingénieur réseau, système et securité\"],\n",
    "\"devops\" : ['DevOps', \"Devops\"],\n",
    "\"autres\" : ['Assistant technique '],\n",
    "\"designer\" : ['UX/UI DESIGNER ']\n",
    "\n",
    "}\n"
   ]
  },
  {
   "cell_type": "code",
   "execution_count": 27,
   "metadata": {},
   "outputs": [],
   "source": [
    "metiers = []\n",
    "\n",
    "for i, row in data.iterrows():\n",
    "    for metier in group:\n",
    "        if row.poste in group[metier]:\n",
    "            metiers.append(metier)\n",
    "            break"
   ]
  },
  {
   "cell_type": "code",
   "execution_count": 28,
   "metadata": {},
   "outputs": [],
   "source": [
    "data['metiers'] = metiers"
   ]
  },
  {
   "cell_type": "code",
   "execution_count": 29,
   "metadata": {},
   "outputs": [
    {
     "data": {
      "text/html": [
       "<div>\n",
       "<style scoped>\n",
       "    .dataframe tbody tr th:only-of-type {\n",
       "        vertical-align: middle;\n",
       "    }\n",
       "\n",
       "    .dataframe tbody tr th {\n",
       "        vertical-align: top;\n",
       "    }\n",
       "\n",
       "    .dataframe thead th {\n",
       "        text-align: right;\n",
       "    }\n",
       "</style>\n",
       "<table border=\"1\" class=\"dataframe\">\n",
       "  <thead>\n",
       "    <tr style=\"text-align: right;\">\n",
       "      <th></th>\n",
       "      <th>poste</th>\n",
       "      <th>experience</th>\n",
       "      <th>salaire_debut</th>\n",
       "      <th>salaire_actuel</th>\n",
       "      <th>satisfaction</th>\n",
       "      <th>metiers</th>\n",
       "    </tr>\n",
       "  </thead>\n",
       "  <tbody>\n",
       "    <tr>\n",
       "      <th>0</th>\n",
       "      <td>Developeur Backend</td>\n",
       "      <td>1 an</td>\n",
       "      <td>125000</td>\n",
       "      <td>125000</td>\n",
       "      <td>2</td>\n",
       "      <td>dev_backend</td>\n",
       "    </tr>\n",
       "    <tr>\n",
       "      <th>1</th>\n",
       "      <td>IT &amp; Data Analyste</td>\n",
       "      <td>3 à 5 ans</td>\n",
       "      <td>50000</td>\n",
       "      <td>420000</td>\n",
       "      <td>1</td>\n",
       "      <td>data_analyst</td>\n",
       "    </tr>\n",
       "    <tr>\n",
       "      <th>2</th>\n",
       "      <td>Développeur Android et python</td>\n",
       "      <td>2 ans</td>\n",
       "      <td>150000</td>\n",
       "      <td>150000</td>\n",
       "      <td>3</td>\n",
       "      <td>mobile</td>\n",
       "    </tr>\n",
       "    <tr>\n",
       "      <th>3</th>\n",
       "      <td>Développeur Web Frontend</td>\n",
       "      <td>Moins d'un an</td>\n",
       "      <td>100000</td>\n",
       "      <td>180000</td>\n",
       "      <td>2</td>\n",
       "      <td>dev_frontend</td>\n",
       "    </tr>\n",
       "    <tr>\n",
       "      <th>4</th>\n",
       "      <td>Full stack web developer</td>\n",
       "      <td>1 an</td>\n",
       "      <td>150000</td>\n",
       "      <td>200000</td>\n",
       "      <td>3</td>\n",
       "      <td>fullstack</td>\n",
       "    </tr>\n",
       "  </tbody>\n",
       "</table>\n",
       "</div>"
      ],
      "text/plain": [
       "                           poste     experience  salaire_debut  \\\n",
       "0             Developeur Backend           1 an         125000   \n",
       "1             IT & Data Analyste      3 à 5 ans          50000   \n",
       "2  Développeur Android et python          2 ans         150000   \n",
       "3       Développeur Web Frontend  Moins d'un an         100000   \n",
       "4       Full stack web developer           1 an         150000   \n",
       "\n",
       "   salaire_actuel  satisfaction       metiers  \n",
       "0          125000             2   dev_backend  \n",
       "1          420000             1  data_analyst  \n",
       "2          150000             3        mobile  \n",
       "3          180000             2  dev_frontend  \n",
       "4          200000             3     fullstack  "
      ]
     },
     "execution_count": 29,
     "metadata": {},
     "output_type": "execute_result"
    }
   ],
   "source": [
    "data.head()"
   ]
  },
  {
   "cell_type": "code",
   "execution_count": 30,
   "metadata": {},
   "outputs": [
    {
     "data": {
      "text/plain": [
       "array(['dev_backend', 'data_analyst', 'mobile', 'dev_frontend',\n",
       "       'fullstack', 'manager', 'designer', 'dev_web', 'devops',\n",
       "       'reseau_sécurite', 'autres'], dtype=object)"
      ]
     },
     "execution_count": 30,
     "metadata": {},
     "output_type": "execute_result"
    }
   ],
   "source": [
    "data.metiers.unique()"
   ]
  },
  {
   "cell_type": "code",
   "execution_count": 31,
   "metadata": {},
   "outputs": [],
   "source": [
    "data.to_csv('salary.csv', index=False)"
   ]
  },
  {
   "cell_type": "markdown",
   "metadata": {},
   "source": [
    "Nous avons désormais des sous-groupes de métiers informatiques qui peuvent nous permettre de mieux les connaitre et analyser. Vous pouvez modifier mon dictionnaire groupe pour avoir une autre type de groupes."
   ]
  },
  {
   "cell_type": "markdown",
   "metadata": {},
   "source": [
    "Nous allons continuer cette analyse en répondant à des questions pertinentes."
   ]
  },
  {
   "cell_type": "markdown",
   "metadata": {},
   "source": [
    "## Analyse globale des salaires en Informatique au Bénin"
   ]
  },
  {
   "cell_type": "code",
   "execution_count": 32,
   "metadata": {},
   "outputs": [
    {
     "data": {
      "text/html": [
       "<div>\n",
       "<style scoped>\n",
       "    .dataframe tbody tr th:only-of-type {\n",
       "        vertical-align: middle;\n",
       "    }\n",
       "\n",
       "    .dataframe tbody tr th {\n",
       "        vertical-align: top;\n",
       "    }\n",
       "\n",
       "    .dataframe thead th {\n",
       "        text-align: right;\n",
       "    }\n",
       "</style>\n",
       "<table border=\"1\" class=\"dataframe\">\n",
       "  <thead>\n",
       "    <tr style=\"text-align: right;\">\n",
       "      <th></th>\n",
       "      <th>poste</th>\n",
       "      <th>experience</th>\n",
       "      <th>salaire_debut</th>\n",
       "      <th>salaire_actuel</th>\n",
       "      <th>satisfaction</th>\n",
       "      <th>metiers</th>\n",
       "    </tr>\n",
       "  </thead>\n",
       "  <tbody>\n",
       "    <tr>\n",
       "      <th>0</th>\n",
       "      <td>Developeur Backend</td>\n",
       "      <td>1 an</td>\n",
       "      <td>125000</td>\n",
       "      <td>125000</td>\n",
       "      <td>2</td>\n",
       "      <td>dev_backend</td>\n",
       "    </tr>\n",
       "    <tr>\n",
       "      <th>1</th>\n",
       "      <td>IT &amp; Data Analyste</td>\n",
       "      <td>3 à 5 ans</td>\n",
       "      <td>50000</td>\n",
       "      <td>420000</td>\n",
       "      <td>1</td>\n",
       "      <td>data_analyst</td>\n",
       "    </tr>\n",
       "    <tr>\n",
       "      <th>2</th>\n",
       "      <td>Développeur Android et python</td>\n",
       "      <td>2 ans</td>\n",
       "      <td>150000</td>\n",
       "      <td>150000</td>\n",
       "      <td>3</td>\n",
       "      <td>mobile</td>\n",
       "    </tr>\n",
       "    <tr>\n",
       "      <th>3</th>\n",
       "      <td>Développeur Web Frontend</td>\n",
       "      <td>Moins d'un an</td>\n",
       "      <td>100000</td>\n",
       "      <td>180000</td>\n",
       "      <td>2</td>\n",
       "      <td>dev_frontend</td>\n",
       "    </tr>\n",
       "    <tr>\n",
       "      <th>4</th>\n",
       "      <td>Full stack web developer</td>\n",
       "      <td>1 an</td>\n",
       "      <td>150000</td>\n",
       "      <td>200000</td>\n",
       "      <td>3</td>\n",
       "      <td>fullstack</td>\n",
       "    </tr>\n",
       "  </tbody>\n",
       "</table>\n",
       "</div>"
      ],
      "text/plain": [
       "                           poste     experience  salaire_debut  \\\n",
       "0             Developeur Backend           1 an         125000   \n",
       "1             IT & Data Analyste      3 à 5 ans          50000   \n",
       "2  Développeur Android et python          2 ans         150000   \n",
       "3       Développeur Web Frontend  Moins d'un an         100000   \n",
       "4       Full stack web developer           1 an         150000   \n",
       "\n",
       "   salaire_actuel  satisfaction       metiers  \n",
       "0          125000             2   dev_backend  \n",
       "1          420000             1  data_analyst  \n",
       "2          150000             3        mobile  \n",
       "3          180000             2  dev_frontend  \n",
       "4          200000             3     fullstack  "
      ]
     },
     "execution_count": 32,
     "metadata": {},
     "output_type": "execute_result"
    }
   ],
   "source": [
    "data.head()"
   ]
  },
  {
   "cell_type": "code",
   "execution_count": 44,
   "metadata": {},
   "outputs": [
    {
     "data": {
      "text/plain": [
       "(38, 6)"
      ]
     },
     "execution_count": 44,
     "metadata": {},
     "output_type": "execute_result"
    }
   ],
   "source": [
    "data.shape"
   ]
  },
  {
   "cell_type": "markdown",
   "metadata": {},
   "source": [
    "**Les métiers**"
   ]
  },
  {
   "cell_type": "markdown",
   "metadata": {},
   "source": [
    "Voici les différents métiers informatique que nous avons dans notre dataset : "
   ]
  },
  {
   "cell_type": "code",
   "execution_count": 45,
   "metadata": {},
   "outputs": [
    {
     "data": {
      "text/plain": [
       "array(['dev_backend', 'data_analyst', 'mobile', 'dev_frontend',\n",
       "       'fullstack', 'manager', 'designer', 'dev_web', 'devops',\n",
       "       'reseau_sécurite', 'autres'], dtype=object)"
      ]
     },
     "execution_count": 45,
     "metadata": {},
     "output_type": "execute_result"
    }
   ],
   "source": [
    "data['metiers'].unique()"
   ]
  },
  {
   "cell_type": "markdown",
   "metadata": {},
   "source": [
    "Quelle est la proportion de chacun de ces métiers ?"
   ]
  },
  {
   "cell_type": "code",
   "execution_count": 49,
   "metadata": {},
   "outputs": [
    {
     "data": {
      "image/png": "[encoded data removed]",
      "text/plain": [
       "<Figure size 720x576 with 1 Axes>"
      ]
     },
     "metadata": {
      "needs_background": "light"
     },
     "output_type": "display_data"
    }
   ],
   "source": [
    "plt.figure(figsize=(10, 8))\n",
    "sns.countplot(y = 'metiers',\n",
    "              data = data,\n",
    "              order = data['metiers'].value_counts().index)\n",
    "plt.title('Les différents métiers en informatique')\n",
    "plt.savefig('metiers_count.png')\n",
    "plt.show()"
   ]
  },
  {
   "cell_type": "markdown",
   "metadata": {},
   "source": [
    "On remarque que le poste de manager qui comprend les chefs de projets, lead developer et autres est le plus fréquent avec  7 réponses. S'en suivent les métiers de developpeur frontend, fullstack, backend. Il s'agit là réellement du métier le plus fréquent si on devrait les mettre dans un même groupe. Il est à noter que nous avons egalement des data analysts, devops, designer et ingenieurs réseau sécurité aussi, mais en faible proportions.\n",
    "\n",
    "Jetons maintenant un coup d'oeil au nombre d'années d'expérience des informations de notre enquête."
   ]
  },
  {
   "cell_type": "markdown",
   "metadata": {},
   "source": [
    "**L'expérience**"
   ]
  },
  {
   "cell_type": "code",
   "execution_count": 53,
   "metadata": {},
   "outputs": [
    {
     "data": {
      "text/plain": [
       "array(['1 an', '3 à 5 ans', '2 ans', \"Moins d'un an\", 'Plus de 5 ans',\n",
       "       \"Stagiaire, Moins d'un an\", 'Stagiaire', 'Plus de 10 ans'],\n",
       "      dtype=object)"
      ]
     },
     "execution_count": 53,
     "metadata": {},
     "output_type": "execute_result"
    }
   ],
   "source": [
    "data['experience'].unique()"
   ]
  },
  {
   "cell_type": "markdown",
   "metadata": {},
   "source": [
    "Etablissons l'ordre de ces différentes catégories : "
   ]
  },
  {
   "cell_type": "code",
   "execution_count": 54,
   "metadata": {},
   "outputs": [],
   "source": [
    "exp_order = [\"Plus de 10 ans\", \"Plus de 5 ans\", \"3 à 5 ans\", \"2 ans\", \"1 an\", \"Moins d'un an\", \"Stagiaire\", \n",
    "            \"Stagiaire, Moins d'un an\"]"
   ]
  },
  {
   "cell_type": "code",
   "execution_count": 58,
   "metadata": {},
   "outputs": [
    {
     "data": {
      "image/png": "[encoded data removed]",
      "text/plain": [
       "<Figure size 720x576 with 1 Axes>"
      ]
     },
     "metadata": {
      "needs_background": "light"
     },
     "output_type": "display_data"
    }
   ],
   "source": [
    "plt.figure(figsize=(10, 8))\n",
    "sns.countplot(y = 'experience',\n",
    "              data = data,\n",
    "              order = exp_order)\n",
    "plt.title(\"Nombre d'années d'expérience\")\n",
    "plt.savefig('exp_count.png')\n",
    "plt.show()"
   ]
  },
  {
   "cell_type": "markdown",
   "metadata": {},
   "source": [
    "La plupart des informaticiens de notre dataset ont entre 3 et 5 ans d'expérience. Ceci parait normal vu le nombre de personnes à des postes managériales, possible après 3 ou 4 ans d'expériences. Nous avons en seconde position, plusieurs développeurs avec 2 ans d'expérience et en 3ème position ceux et celles qui viennent de débuter leur carrière avec moins d'un an d'expérience. Nous avons aussi 2 stagiaires. Cette diversité d'expérience peut nous permettre de mieux apprécier plus tard, les salaires et différents niveaux de satisfactions selon les groupes."
   ]
  },
  {
   "cell_type": "markdown",
   "metadata": {},
   "source": [
    "**Les salaires**"
   ]
  },
  {
   "cell_type": "markdown",
   "metadata": {},
   "source": [
    "Nous avons les salaires en début de carrière et les salaires actuels des 38 informaticiens de notre jeu de données. Quelle est la distribution des salaires ? Quel est le minimum ? maximum ? median ?"
   ]
  },
  {
   "cell_type": "code",
   "execution_count": 78,
   "metadata": {},
   "outputs": [
    {
     "data": {
      "image/png": "[encoded data removed]",
      "text/plain": [
       "<Figure size 720x576 with 1 Axes>"
      ]
     },
     "metadata": {
      "needs_background": "light"
     },
     "output_type": "display_data"
    }
   ],
   "source": [
    "plt.figure(figsize=(10, 8))\n",
    "sns.distplot(data['salaire_debut'], kde=False, norm_hist=False, color=\"black\")\n",
    "plt.title(\"Salaire des informaticiens au début de leur carrière\")\n",
    "plt.savefig('salaire_debut.png')\n",
    "plt.show()"
   ]
  },
  {
   "cell_type": "code",
   "execution_count": 77,
   "metadata": {},
   "outputs": [
    {
     "data": {
      "text/plain": [
       "count        38.000000\n",
       "mean     112982.236842\n",
       "std       92605.979264\n",
       "min           0.000000\n",
       "25%       50000.000000\n",
       "50%      100000.000000\n",
       "75%      143750.000000\n",
       "max      400000.000000\n",
       "Name: salaire_debut, dtype: float64"
      ]
     },
     "execution_count": 77,
     "metadata": {},
     "output_type": "execute_result"
    }
   ],
   "source": [
    "data['salaire_debut'].describe()"
   ]
  },
  {
   "cell_type": "markdown",
   "metadata": {},
   "source": [
    "Nous pouvons remarquer qu'au début de leur carrière, le salaire des informaticiens au Bénin est entre 50 000 et 150 000 avec la médiane à 100 000. Nous avons cependant quelques cas particuliers avec 0 et 400 000 comme salaire de débutant. Investiguons : "
   ]
  },
  {
   "cell_type": "code",
   "execution_count": 86,
   "metadata": {},
   "outputs": [
    {
     "data": {
      "text/html": [
       "<div>\n",
       "<style scoped>\n",
       "    .dataframe tbody tr th:only-of-type {\n",
       "        vertical-align: middle;\n",
       "    }\n",
       "\n",
       "    .dataframe tbody tr th {\n",
       "        vertical-align: top;\n",
       "    }\n",
       "\n",
       "    .dataframe thead th {\n",
       "        text-align: right;\n",
       "    }\n",
       "</style>\n",
       "<table border=\"1\" class=\"dataframe\">\n",
       "  <thead>\n",
       "    <tr style=\"text-align: right;\">\n",
       "      <th></th>\n",
       "      <th>poste</th>\n",
       "      <th>experience</th>\n",
       "      <th>salaire_debut</th>\n",
       "      <th>salaire_actuel</th>\n",
       "      <th>satisfaction</th>\n",
       "      <th>metiers</th>\n",
       "    </tr>\n",
       "  </thead>\n",
       "  <tbody>\n",
       "    <tr>\n",
       "      <th>23</th>\n",
       "      <td>Chef de projet web et mobile</td>\n",
       "      <td>3 à 5 ans</td>\n",
       "      <td>400000</td>\n",
       "      <td>1000000</td>\n",
       "      <td>3</td>\n",
       "      <td>manager</td>\n",
       "    </tr>\n",
       "    <tr>\n",
       "      <th>33</th>\n",
       "      <td>Ingénieur réseau, système et securité</td>\n",
       "      <td>Plus de 5 ans</td>\n",
       "      <td>400000</td>\n",
       "      <td>500000</td>\n",
       "      <td>2</td>\n",
       "      <td>reseau_sécurite</td>\n",
       "    </tr>\n",
       "    <tr>\n",
       "      <th>37</th>\n",
       "      <td>Développeur web</td>\n",
       "      <td>1 an</td>\n",
       "      <td>0</td>\n",
       "      <td>40000</td>\n",
       "      <td>1</td>\n",
       "      <td>dev_web</td>\n",
       "    </tr>\n",
       "  </tbody>\n",
       "</table>\n",
       "</div>"
      ],
      "text/plain": [
       "                                    poste     experience  salaire_debut  \\\n",
       "23           Chef de projet web et mobile      3 à 5 ans         400000   \n",
       "33  Ingénieur réseau, système et securité  Plus de 5 ans         400000   \n",
       "37                        Développeur web           1 an              0   \n",
       "\n",
       "    salaire_actuel  satisfaction          metiers  \n",
       "23         1000000             3          manager  \n",
       "33          500000             2  reseau_sécurite  \n",
       "37           40000             1          dev_web  "
      ]
     },
     "execution_count": 86,
     "metadata": {},
     "output_type": "execute_result"
    }
   ],
   "source": [
    "data[(data['salaire_debut'] == 0) | (data['salaire_debut'] == 400000)]"
   ]
  },
  {
   "cell_type": "markdown",
   "metadata": {},
   "source": [
    "Il s'agit donc d'un chef de projet Web et mobile et d'un Ingénieur réseau,  dont le salaire au début était à 400 000. Depuis ceux-ci sont passés respectivement à 1 million et 500 000. Passons justement aux salaires actuels des informaticiens."
   ]
  },
  {
   "cell_type": "code",
   "execution_count": null,
   "metadata": {},
   "outputs": [],
   "source": []
  },
  {
   "cell_type": "code",
   "execution_count": 88,
   "metadata": {},
   "outputs": [
    {
     "data": {
      "image/png": "[encoded data removed]",
      "text/plain": [
       "<Figure size 720x576 with 1 Axes>"
      ]
     },
     "metadata": {
      "needs_background": "light"
     },
     "output_type": "display_data"
    }
   ],
   "source": [
    "plt.figure(figsize=(10, 8))\n",
    "sns.distplot(data['salaire_actuel'], kde=False, norm_hist=False, color='red')\n",
    "plt.title(\"Salaire actuel des informaticiens\")\n",
    "plt.savefig('salaire_actuel.png')\n",
    "plt.show()\n",
    "\n"
   ]
  },
  {
   "cell_type": "code",
   "execution_count": 90,
   "metadata": {},
   "outputs": [
    {
     "data": {
      "text/plain": [
       "count         38.000000\n",
       "mean      306745.894737\n",
       "std       246525.329694\n",
       "min        40000.000000\n",
       "25%       150000.000000\n",
       "50%       200000.000000\n",
       "75%       415000.000000\n",
       "max      1000000.000000\n",
       "Name: salaire_actuel, dtype: float64"
      ]
     },
     "execution_count": 90,
     "metadata": {},
     "output_type": "execute_result"
    }
   ],
   "source": [
    "data['salaire_actuel'].describe()"
   ]
  },
  {
   "cell_type": "markdown",
   "metadata": {},
   "source": [
    "Le salaire minimum est le même que le salaire minimum de début. Il est de 40000 et il s'agit de la même personne. Il s'agit cependant d'un outlier, Le 1er quartile des salaires étant à 150 000. Le salaire maximum est de 1 million. La médian des salaires actuels est de 200 000. Nous ne considerons pas la moyenne des salaires puisqu'elle est facilement influencée par les outliers. "
   ]
  },
  {
   "cell_type": "code",
   "execution_count": 91,
   "metadata": {},
   "outputs": [
    {
     "data": {
      "text/html": [
       "<div>\n",
       "<style scoped>\n",
       "    .dataframe tbody tr th:only-of-type {\n",
       "        vertical-align: middle;\n",
       "    }\n",
       "\n",
       "    .dataframe tbody tr th {\n",
       "        vertical-align: top;\n",
       "    }\n",
       "\n",
       "    .dataframe thead th {\n",
       "        text-align: right;\n",
       "    }\n",
       "</style>\n",
       "<table border=\"1\" class=\"dataframe\">\n",
       "  <thead>\n",
       "    <tr style=\"text-align: right;\">\n",
       "      <th></th>\n",
       "      <th>poste</th>\n",
       "      <th>experience</th>\n",
       "      <th>salaire_debut</th>\n",
       "      <th>salaire_actuel</th>\n",
       "      <th>satisfaction</th>\n",
       "      <th>metiers</th>\n",
       "    </tr>\n",
       "  </thead>\n",
       "  <tbody>\n",
       "    <tr>\n",
       "      <th>19</th>\n",
       "      <td>Devops</td>\n",
       "      <td>2 ans</td>\n",
       "      <td>40000</td>\n",
       "      <td>1000000</td>\n",
       "      <td>3</td>\n",
       "      <td>devops</td>\n",
       "    </tr>\n",
       "    <tr>\n",
       "      <th>23</th>\n",
       "      <td>Chef de projet web et mobile</td>\n",
       "      <td>3 à 5 ans</td>\n",
       "      <td>400000</td>\n",
       "      <td>1000000</td>\n",
       "      <td>3</td>\n",
       "      <td>manager</td>\n",
       "    </tr>\n",
       "  </tbody>\n",
       "</table>\n",
       "</div>"
      ],
      "text/plain": [
       "                           poste experience  salaire_debut  salaire_actuel  \\\n",
       "19                        Devops      2 ans          40000         1000000   \n",
       "23  Chef de projet web et mobile  3 à 5 ans         400000         1000000   \n",
       "\n",
       "    satisfaction  metiers  \n",
       "19             3   devops  \n",
       "23             3  manager  "
      ]
     },
     "execution_count": 91,
     "metadata": {},
     "output_type": "execute_result"
    }
   ],
   "source": [
    "data[data['salaire_actuel'] == 1000000] "
   ]
  },
  {
   "cell_type": "markdown",
   "metadata": {},
   "source": [
    "Nous avions déjà étudié le cas du Chef de projet Web et Mobile. Le cas le plus intéressant ici est celui de l'ingenieur Devops qui est passé de 40 000 fcfa de salaire au million en 2 ans. Une augmentation assez remarquable. Mais il/elle n'est pas le/la seul(e) devops de notre base de données : "
   ]
  },
  {
   "cell_type": "code",
   "execution_count": 93,
   "metadata": {},
   "outputs": [
    {
     "data": {
      "text/html": [
       "<div>\n",
       "<style scoped>\n",
       "    .dataframe tbody tr th:only-of-type {\n",
       "        vertical-align: middle;\n",
       "    }\n",
       "\n",
       "    .dataframe tbody tr th {\n",
       "        vertical-align: top;\n",
       "    }\n",
       "\n",
       "    .dataframe thead th {\n",
       "        text-align: right;\n",
       "    }\n",
       "</style>\n",
       "<table border=\"1\" class=\"dataframe\">\n",
       "  <thead>\n",
       "    <tr style=\"text-align: right;\">\n",
       "      <th></th>\n",
       "      <th>poste</th>\n",
       "      <th>experience</th>\n",
       "      <th>salaire_debut</th>\n",
       "      <th>salaire_actuel</th>\n",
       "      <th>satisfaction</th>\n",
       "      <th>metiers</th>\n",
       "    </tr>\n",
       "  </thead>\n",
       "  <tbody>\n",
       "    <tr>\n",
       "      <th>10</th>\n",
       "      <td>DevOps</td>\n",
       "      <td>3 à 5 ans</td>\n",
       "      <td>150000</td>\n",
       "      <td>400000</td>\n",
       "      <td>1</td>\n",
       "      <td>devops</td>\n",
       "    </tr>\n",
       "    <tr>\n",
       "      <th>19</th>\n",
       "      <td>Devops</td>\n",
       "      <td>2 ans</td>\n",
       "      <td>40000</td>\n",
       "      <td>1000000</td>\n",
       "      <td>3</td>\n",
       "      <td>devops</td>\n",
       "    </tr>\n",
       "  </tbody>\n",
       "</table>\n",
       "</div>"
      ],
      "text/plain": [
       "     poste experience  salaire_debut  salaire_actuel  satisfaction metiers\n",
       "10  DevOps  3 à 5 ans         150000          400000             1  devops\n",
       "19  Devops      2 ans          40000         1000000             3  devops"
      ]
     },
     "execution_count": 93,
     "metadata": {},
     "output_type": "execute_result"
    }
   ],
   "source": [
    "data[data['metiers'] == \"devops\"] "
   ]
  },
  {
   "cell_type": "markdown",
   "metadata": {},
   "source": [
    "Comparé au second devops de notre dataset qui est passé de 150000 à 400000 en 3 ou 4 ans, le cas du précédent semble assez éloigné. Plus de données aurait permis d'en savoir plus sur les salaires de ce métier en particulier.\n",
    "\n",
    "Qu'en est-il de la satisfaction des développeurs ? Leur salaire leur convient-il ? "
   ]
  },
  {
   "cell_type": "markdown",
   "metadata": {},
   "source": [
    "**La satisfaction**"
   ]
  },
  {
   "cell_type": "code",
   "execution_count": 96,
   "metadata": {},
   "outputs": [
    {
     "data": {
      "image/png": "[encoded data removed]",
      "text/plain": [
       "<Figure size 720x576 with 1 Axes>"
      ]
     },
     "metadata": {
      "needs_background": "light"
     },
     "output_type": "display_data"
    }
   ],
   "source": [
    "plt.figure(figsize=(10, 8))\n",
    "sns.countplot(y = 'satisfaction',\n",
    "              data = data,\n",
    "              order = range(1,6))\n",
    "plt.title('La satisfaction')\n",
    "# plt.savefig('metiers_count.png')\n",
    "plt.show()"
   ]
  },
  {
   "cell_type": "code",
   "execution_count": 97,
   "metadata": {},
   "outputs": [
    {
     "data": {
      "text/plain": [
       "count    38.000000\n",
       "mean      2.078947\n",
       "std       1.075063\n",
       "min       1.000000\n",
       "25%       1.000000\n",
       "50%       2.000000\n",
       "75%       3.000000\n",
       "max       5.000000\n",
       "Name: satisfaction, dtype: float64"
      ]
     },
     "execution_count": 97,
     "metadata": {},
     "output_type": "execute_result"
    }
   ],
   "source": [
    "data['satisfaction'].describe()"
   ]
  },
  {
   "cell_type": "markdown",
   "metadata": {},
   "source": [
    "Sur une échelle de 1 à 5 avec 1 étant non satisfait et 5 étant totalement satisfait, nous remarquons que la plupart des informaticiens ne sont pas ou sont peu satisfait de leur rémunération. Sur 38 réponses, seules 3 personnes ont une satisfaction supérieure à 3. Que font-ils ? et combien gagne-t-il ?"
   ]
  },
  {
   "cell_type": "code",
   "execution_count": 98,
   "metadata": {},
   "outputs": [
    {
     "data": {
      "text/html": [
       "<div>\n",
       "<style scoped>\n",
       "    .dataframe tbody tr th:only-of-type {\n",
       "        vertical-align: middle;\n",
       "    }\n",
       "\n",
       "    .dataframe tbody tr th {\n",
       "        vertical-align: top;\n",
       "    }\n",
       "\n",
       "    .dataframe thead th {\n",
       "        text-align: right;\n",
       "    }\n",
       "</style>\n",
       "<table border=\"1\" class=\"dataframe\">\n",
       "  <thead>\n",
       "    <tr style=\"text-align: right;\">\n",
       "      <th></th>\n",
       "      <th>poste</th>\n",
       "      <th>experience</th>\n",
       "      <th>salaire_debut</th>\n",
       "      <th>salaire_actuel</th>\n",
       "      <th>satisfaction</th>\n",
       "      <th>metiers</th>\n",
       "    </tr>\n",
       "  </thead>\n",
       "  <tbody>\n",
       "    <tr>\n",
       "      <th>9</th>\n",
       "      <td>Développeur web</td>\n",
       "      <td>3 à 5 ans</td>\n",
       "      <td>50000</td>\n",
       "      <td>500000</td>\n",
       "      <td>4</td>\n",
       "      <td>dev_web</td>\n",
       "    </tr>\n",
       "    <tr>\n",
       "      <th>17</th>\n",
       "      <td>Data Analyst</td>\n",
       "      <td>Stagiaire, Moins d'un an</td>\n",
       "      <td>50000</td>\n",
       "      <td>500000</td>\n",
       "      <td>5</td>\n",
       "      <td>data_analyst</td>\n",
       "    </tr>\n",
       "    <tr>\n",
       "      <th>25</th>\n",
       "      <td>Développeur Web</td>\n",
       "      <td>Stagiaire</td>\n",
       "      <td>25000</td>\n",
       "      <td>50000</td>\n",
       "      <td>4</td>\n",
       "      <td>dev_web</td>\n",
       "    </tr>\n",
       "  </tbody>\n",
       "</table>\n",
       "</div>"
      ],
      "text/plain": [
       "              poste                experience  salaire_debut  salaire_actuel  \\\n",
       "9   Développeur web                 3 à 5 ans          50000          500000   \n",
       "17    Data Analyst   Stagiaire, Moins d'un an          50000          500000   \n",
       "25  Développeur Web                 Stagiaire          25000           50000   \n",
       "\n",
       "    satisfaction       metiers  \n",
       "9              4       dev_web  \n",
       "17             5  data_analyst  \n",
       "25             4       dev_web  "
      ]
     },
     "execution_count": 98,
     "metadata": {},
     "output_type": "execute_result"
    }
   ],
   "source": [
    "data[data['satisfaction'] > 3]"
   ]
  },
  {
   "cell_type": "markdown",
   "metadata": {},
   "source": [
    "Le cas du data analyst Stagiaire, passé de 50 000 à 500 000 parait abérant. Il/elle est d'ailleurs le/la seul(e) avec une satisfaction à 5. C'est également la même augmentation salariale pour l'un des developpeurs Web à 4 comme satisfaction. Mais celui-ci a en 3 et 5 ans d'expérience à la différent du data analyst. Finalement nous avons un développeur web stagiaire avec la même satisfaction."
   ]
  },
  {
   "cell_type": "markdown",
   "metadata": {},
   "source": [
    "Ce qui serait plus intéressant, est le salaire et la satisfaction par sous-groupe de métier."
   ]
  },
  {
   "cell_type": "markdown",
   "metadata": {},
   "source": [
    "**Sous groupe et salaire**\n"
   ]
  },
  {
   "cell_type": "code",
   "execution_count": 113,
   "metadata": {},
   "outputs": [
    {
     "data": {
      "text/html": [
       "<div>\n",
       "<style scoped>\n",
       "    .dataframe tbody tr th:only-of-type {\n",
       "        vertical-align: middle;\n",
       "    }\n",
       "\n",
       "    .dataframe tbody tr th {\n",
       "        vertical-align: top;\n",
       "    }\n",
       "\n",
       "    .dataframe thead tr th {\n",
       "        text-align: left;\n",
       "    }\n",
       "\n",
       "    .dataframe thead tr:last-of-type th {\n",
       "        text-align: right;\n",
       "    }\n",
       "</style>\n",
       "<table border=\"1\" class=\"dataframe\">\n",
       "  <thead>\n",
       "    <tr>\n",
       "      <th></th>\n",
       "      <th>salaire_actuel</th>\n",
       "      <th>satisfaction</th>\n",
       "    </tr>\n",
       "    <tr>\n",
       "      <th></th>\n",
       "      <th>median</th>\n",
       "      <th>median</th>\n",
       "    </tr>\n",
       "    <tr>\n",
       "      <th>metiers</th>\n",
       "      <th></th>\n",
       "      <th></th>\n",
       "    </tr>\n",
       "  </thead>\n",
       "  <tbody>\n",
       "    <tr>\n",
       "      <th>autres</th>\n",
       "      <td>125000</td>\n",
       "      <td>3.0</td>\n",
       "    </tr>\n",
       "    <tr>\n",
       "      <th>data_analyst</th>\n",
       "      <td>500000</td>\n",
       "      <td>3.0</td>\n",
       "    </tr>\n",
       "    <tr>\n",
       "      <th>designer</th>\n",
       "      <td>100000</td>\n",
       "      <td>1.0</td>\n",
       "    </tr>\n",
       "    <tr>\n",
       "      <th>dev_backend</th>\n",
       "      <td>212500</td>\n",
       "      <td>2.5</td>\n",
       "    </tr>\n",
       "    <tr>\n",
       "      <th>dev_frontend</th>\n",
       "      <td>180000</td>\n",
       "      <td>2.0</td>\n",
       "    </tr>\n",
       "    <tr>\n",
       "      <th>dev_web</th>\n",
       "      <td>150000</td>\n",
       "      <td>3.0</td>\n",
       "    </tr>\n",
       "    <tr>\n",
       "      <th>devops</th>\n",
       "      <td>700000</td>\n",
       "      <td>2.0</td>\n",
       "    </tr>\n",
       "    <tr>\n",
       "      <th>fullstack</th>\n",
       "      <td>380000</td>\n",
       "      <td>2.0</td>\n",
       "    </tr>\n",
       "    <tr>\n",
       "      <th>manager</th>\n",
       "      <td>300000</td>\n",
       "      <td>1.0</td>\n",
       "    </tr>\n",
       "    <tr>\n",
       "      <th>mobile</th>\n",
       "      <td>150000</td>\n",
       "      <td>1.0</td>\n",
       "    </tr>\n",
       "    <tr>\n",
       "      <th>reseau_sécurite</th>\n",
       "      <td>500000</td>\n",
       "      <td>2.0</td>\n",
       "    </tr>\n",
       "  </tbody>\n",
       "</table>\n",
       "</div>"
      ],
      "text/plain": [
       "                salaire_actuel satisfaction\n",
       "                        median       median\n",
       "metiers                                    \n",
       "autres                  125000          3.0\n",
       "data_analyst            500000          3.0\n",
       "designer                100000          1.0\n",
       "dev_backend             212500          2.5\n",
       "dev_frontend            180000          2.0\n",
       "dev_web                 150000          3.0\n",
       "devops                  700000          2.0\n",
       "fullstack               380000          2.0\n",
       "manager                 300000          1.0\n",
       "mobile                  150000          1.0\n",
       "reseau_sécurite         500000          2.0"
      ]
     },
     "execution_count": 113,
     "metadata": {},
     "output_type": "execute_result"
    }
   ],
   "source": [
    "result = data.groupby('metiers')['salaire_actuel', 'satisfaction'].agg([ 'median'])\n",
    "result"
   ]
  },
  {
   "cell_type": "code",
   "execution_count": 116,
   "metadata": {},
   "outputs": [
    {
     "data": {
      "text/html": [
       "<div>\n",
       "<style scoped>\n",
       "    .dataframe tbody tr th:only-of-type {\n",
       "        vertical-align: middle;\n",
       "    }\n",
       "\n",
       "    .dataframe tbody tr th {\n",
       "        vertical-align: top;\n",
       "    }\n",
       "\n",
       "    .dataframe thead tr th {\n",
       "        text-align: left;\n",
       "    }\n",
       "</style>\n",
       "<table border=\"1\" class=\"dataframe\">\n",
       "  <thead>\n",
       "    <tr>\n",
       "      <th></th>\n",
       "      <th>metiers</th>\n",
       "      <th>salaire_actuel</th>\n",
       "      <th>satisfaction</th>\n",
       "    </tr>\n",
       "    <tr>\n",
       "      <th></th>\n",
       "      <th></th>\n",
       "      <th>median</th>\n",
       "      <th>median</th>\n",
       "    </tr>\n",
       "  </thead>\n",
       "  <tbody>\n",
       "    <tr>\n",
       "      <th>2</th>\n",
       "      <td>designer</td>\n",
       "      <td>100000</td>\n",
       "      <td>1.0</td>\n",
       "    </tr>\n",
       "    <tr>\n",
       "      <th>0</th>\n",
       "      <td>autres</td>\n",
       "      <td>125000</td>\n",
       "      <td>3.0</td>\n",
       "    </tr>\n",
       "    <tr>\n",
       "      <th>5</th>\n",
       "      <td>dev_web</td>\n",
       "      <td>150000</td>\n",
       "      <td>3.0</td>\n",
       "    </tr>\n",
       "    <tr>\n",
       "      <th>9</th>\n",
       "      <td>mobile</td>\n",
       "      <td>150000</td>\n",
       "      <td>1.0</td>\n",
       "    </tr>\n",
       "    <tr>\n",
       "      <th>4</th>\n",
       "      <td>dev_frontend</td>\n",
       "      <td>180000</td>\n",
       "      <td>2.0</td>\n",
       "    </tr>\n",
       "    <tr>\n",
       "      <th>3</th>\n",
       "      <td>dev_backend</td>\n",
       "      <td>212500</td>\n",
       "      <td>2.5</td>\n",
       "    </tr>\n",
       "    <tr>\n",
       "      <th>8</th>\n",
       "      <td>manager</td>\n",
       "      <td>300000</td>\n",
       "      <td>1.0</td>\n",
       "    </tr>\n",
       "    <tr>\n",
       "      <th>7</th>\n",
       "      <td>fullstack</td>\n",
       "      <td>380000</td>\n",
       "      <td>2.0</td>\n",
       "    </tr>\n",
       "    <tr>\n",
       "      <th>1</th>\n",
       "      <td>data_analyst</td>\n",
       "      <td>500000</td>\n",
       "      <td>3.0</td>\n",
       "    </tr>\n",
       "    <tr>\n",
       "      <th>10</th>\n",
       "      <td>reseau_sécurite</td>\n",
       "      <td>500000</td>\n",
       "      <td>2.0</td>\n",
       "    </tr>\n",
       "    <tr>\n",
       "      <th>6</th>\n",
       "      <td>devops</td>\n",
       "      <td>700000</td>\n",
       "      <td>2.0</td>\n",
       "    </tr>\n",
       "  </tbody>\n",
       "</table>\n",
       "</div>"
      ],
      "text/plain": [
       "            metiers salaire_actuel satisfaction\n",
       "                            median       median\n",
       "2          designer         100000          1.0\n",
       "0            autres         125000          3.0\n",
       "5           dev_web         150000          3.0\n",
       "9            mobile         150000          1.0\n",
       "4      dev_frontend         180000          2.0\n",
       "3       dev_backend         212500          2.5\n",
       "8           manager         300000          1.0\n",
       "7         fullstack         380000          2.0\n",
       "1      data_analyst         500000          3.0\n",
       "10  reseau_sécurite         500000          2.0\n",
       "6            devops         700000          2.0"
      ]
     },
     "execution_count": 116,
     "metadata": {},
     "output_type": "execute_result"
    }
   ],
   "source": [
    "result.reset_index().sort_values(('salaire_actuel', 'median'))"
   ]
  },
  {
   "cell_type": "markdown",
   "metadata": {},
   "source": [
    "En terme de salaire actuel, les sous-groupes de métiers, les devops gagnent le plus avec un salaire de 700 000 f. Les ingénieurs réseaux sécurités et data analyst suivent avec 500 000f de salaire. Les développeurs étant le groupe de plus populaire d'informaticiens, il convient de noter que les dev fullstack gagnent plus que les développeurs backend et ceux-ci plus que les développeurs front-end avec respectivement 380 000, 212 500 et 180 000. Ces statistiques restent à prendre avec des pincettes vu le nombre relativement petit de réponses."
   ]
  },
  {
   "cell_type": "code",
   "execution_count": null,
   "metadata": {},
   "outputs": [],
   "source": []
  },
  {
   "cell_type": "code",
   "execution_count": 117,
   "metadata": {},
   "outputs": [
    {
     "data": {
      "text/html": [
       "<div>\n",
       "<style scoped>\n",
       "    .dataframe tbody tr th:only-of-type {\n",
       "        vertical-align: middle;\n",
       "    }\n",
       "\n",
       "    .dataframe tbody tr th {\n",
       "        vertical-align: top;\n",
       "    }\n",
       "\n",
       "    .dataframe thead tr th {\n",
       "        text-align: left;\n",
       "    }\n",
       "</style>\n",
       "<table border=\"1\" class=\"dataframe\">\n",
       "  <thead>\n",
       "    <tr>\n",
       "      <th></th>\n",
       "      <th>metiers</th>\n",
       "      <th>salaire_actuel</th>\n",
       "      <th>satisfaction</th>\n",
       "    </tr>\n",
       "    <tr>\n",
       "      <th></th>\n",
       "      <th></th>\n",
       "      <th>median</th>\n",
       "      <th>median</th>\n",
       "    </tr>\n",
       "  </thead>\n",
       "  <tbody>\n",
       "    <tr>\n",
       "      <th>2</th>\n",
       "      <td>designer</td>\n",
       "      <td>100000</td>\n",
       "      <td>1.0</td>\n",
       "    </tr>\n",
       "    <tr>\n",
       "      <th>8</th>\n",
       "      <td>manager</td>\n",
       "      <td>300000</td>\n",
       "      <td>1.0</td>\n",
       "    </tr>\n",
       "    <tr>\n",
       "      <th>9</th>\n",
       "      <td>mobile</td>\n",
       "      <td>150000</td>\n",
       "      <td>1.0</td>\n",
       "    </tr>\n",
       "    <tr>\n",
       "      <th>4</th>\n",
       "      <td>dev_frontend</td>\n",
       "      <td>180000</td>\n",
       "      <td>2.0</td>\n",
       "    </tr>\n",
       "    <tr>\n",
       "      <th>6</th>\n",
       "      <td>devops</td>\n",
       "      <td>700000</td>\n",
       "      <td>2.0</td>\n",
       "    </tr>\n",
       "    <tr>\n",
       "      <th>7</th>\n",
       "      <td>fullstack</td>\n",
       "      <td>380000</td>\n",
       "      <td>2.0</td>\n",
       "    </tr>\n",
       "    <tr>\n",
       "      <th>10</th>\n",
       "      <td>reseau_sécurite</td>\n",
       "      <td>500000</td>\n",
       "      <td>2.0</td>\n",
       "    </tr>\n",
       "    <tr>\n",
       "      <th>3</th>\n",
       "      <td>dev_backend</td>\n",
       "      <td>212500</td>\n",
       "      <td>2.5</td>\n",
       "    </tr>\n",
       "    <tr>\n",
       "      <th>0</th>\n",
       "      <td>autres</td>\n",
       "      <td>125000</td>\n",
       "      <td>3.0</td>\n",
       "    </tr>\n",
       "    <tr>\n",
       "      <th>1</th>\n",
       "      <td>data_analyst</td>\n",
       "      <td>500000</td>\n",
       "      <td>3.0</td>\n",
       "    </tr>\n",
       "    <tr>\n",
       "      <th>5</th>\n",
       "      <td>dev_web</td>\n",
       "      <td>150000</td>\n",
       "      <td>3.0</td>\n",
       "    </tr>\n",
       "  </tbody>\n",
       "</table>\n",
       "</div>"
      ],
      "text/plain": [
       "            metiers salaire_actuel satisfaction\n",
       "                            median       median\n",
       "2          designer         100000          1.0\n",
       "8           manager         300000          1.0\n",
       "9            mobile         150000          1.0\n",
       "4      dev_frontend         180000          2.0\n",
       "6            devops         700000          2.0\n",
       "7         fullstack         380000          2.0\n",
       "10  reseau_sécurite         500000          2.0\n",
       "3       dev_backend         212500          2.5\n",
       "0            autres         125000          3.0\n",
       "1      data_analyst         500000          3.0\n",
       "5           dev_web         150000          3.0"
      ]
     },
     "execution_count": 117,
     "metadata": {},
     "output_type": "execute_result"
    }
   ],
   "source": [
    "result.reset_index().sort_values(('satisfaction', 'median'))"
   ]
  },
  {
   "cell_type": "markdown",
   "metadata": {},
   "source": [
    "En terme de Satisfaction, les developpeurs Web, data analyst et developpeurs Backend semblent les plus satisfaits. Il faut remarquer la très faible satisfaction des managers alors que les membres de leurs équipes semblent être plus ou moins satisfaits."
   ]
  },
  {
   "cell_type": "code",
   "execution_count": null,
   "metadata": {},
   "outputs": [],
   "source": []
  }
 ],
 "metadata": {
  "kernelspec": {
   "display_name": "Python 3",
   "language": "python",
   "name": "python3"
  },
  "language_info": {
   "codemirror_mode": {
    "name": "ipython",
    "version": 3
   },
   "file_extension": ".py",
   "mimetype": "text/x-python",
   "name": "python",
   "nbconvert_exporter": "python",
   "pygments_lexer": "ipython3",
   "version": "3.7.6"
  }
 },
 "nbformat": 4,
 "nbformat_minor": 4
}
